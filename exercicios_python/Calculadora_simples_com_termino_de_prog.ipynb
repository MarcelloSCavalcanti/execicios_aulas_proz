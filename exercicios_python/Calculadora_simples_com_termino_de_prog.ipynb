{
  "nbformat": 4,
  "nbformat_minor": 0,
  "metadata": {
    "colab": {
      "provenance": [],
      "authorship_tag": "ABX9TyPdITtEtIBwdO5DBUgptMLw",
      "include_colab_link": true
    },
    "kernelspec": {
      "name": "python3",
      "display_name": "Python 3"
    },
    "language_info": {
      "name": "python"
    }
  },
  "cells": [
    {
      "cell_type": "markdown",
      "metadata": {
        "id": "view-in-github",
        "colab_type": "text"
      },
      "source": [
        "<a href=\"https://colab.research.google.com/github/MarcelloSCavalcanti/prozExercicios/blob/main/Calculadora_simples_com_termino_de_prog.ipynb\" target=\"_parent\"><img src=\"https://colab.research.google.com/assets/colab-badge.svg\" alt=\"Open In Colab\"/></a>"
      ]
    },
    {
      "cell_type": "code",
      "execution_count": null,
      "metadata": {
        "id": "zzayYJ6i9Ujs"
      },
      "outputs": [],
      "source": [
        "#função para realizar as operações ou realizar a parada do programa\n",
        "def calculadora(numero1, numero2, operador):\n",
        "  if operador == 1:\n",
        "    return numero1 + numero2\n",
        "  elif operador == 2:\n",
        "    return numero1 - numero2\n",
        "  elif  operador == 3:\n",
        "    return numero1 * numero2\n",
        "  else:\n",
        "    return numero1 / numero2\n",
        "#laço inicial no qual vai apresentar o texto inicial ao usuário deixando o realizar o input da sua opção do operador\n",
        "sair = 0\n",
        "while sair == 0:\n",
        "  operador = \"\"\n",
        "  print(\"Calculadora Simples\\n\")\n",
        "  print(\"1 Adição\")\n",
        "  print(\"2 Subtração\")\n",
        "  print(\"3 Multiplicação\")\n",
        "  print(\"4 Divisão\")\n",
        "  print(\"0 Sair da calculadora\")\n",
        "  operador = input(\"\\nDigite o número referente ao operador desejado\\n\")\n",
        "  #nesse if temos uma verificação se a opção digitada foi de fato um número ou algo diferente o que é inválido para o programa(naturalmente iria aparecer uma mensagem de erro)\n",
        "  if(operador).isnumeric() == False:\n",
        "    print(\"\\nOperação inválida! Coleque um numero de 0 a 4 referênte a operação desejada!\\n\")\n",
        "  #no else temos caso seja realmente um número trasformar a entrada em uma variavel inteiro, visto que na hora que recebemos o input era uma string\n",
        "  else:\n",
        "    operador = int(operador)\n",
        "    #indentando o retante temos toda a parte a baixo dentro do else a cima o que faz que tenhamos uma subverificação(não sei se o nome correto seria esse ainda estou começando na área)\n",
        "    #no if abaixo temos a transformação do sair em 1 o que faz com que o programa se encerre\n",
        "    if(operador == 0):\n",
        "      sair = 1\n",
        "      print(\"Operação encerrada\")\n",
        "    #nesse elif temos as opções válidas, que irão de fato realizar algum cálculo ou procedimento\n",
        "    elif(operador >= 1) and (operador<=4):\n",
        "      numero1 = int(input(\"Digite o primeiro número da equação\\n\"))\n",
        "      numero2 = int(input(\"Digite o segundo numero da equação\\n\"))\n",
        "\n",
        "      #o round consiste em pegar o resultado da função e arredondar para a quantidade de casas desejadas\n",
        "      resposta = round(calculadora(numero1, numero2, operador), 2)\n",
        "      print(\"\\nResposta da equação igual a\", resposta,\"\\n\")\n",
        "    #nesse else colocamos a opção de que a pessoa colocou algum operador que seja diferente de 0 ou das escolhas 1, 2, 3, 4(como foi uma escolha inválida e não encerramente o programa ainda não se encerra repetindo o ciclo do while)\n",
        "    else:\n",
        "      print(\"\\nNúmero de opção de operador inválida\\n\")"
      ]
    }
  ]
}