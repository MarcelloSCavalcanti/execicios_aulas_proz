{
  "nbformat": 4,
  "nbformat_minor": 0,
  "metadata": {
    "colab": {
      "provenance": [],
      "authorship_tag": "ABX9TyPex6DC6yCl+Hz8aEcB4tYs",
      "include_colab_link": true
    },
    "kernelspec": {
      "name": "python3",
      "display_name": "Python 3"
    },
    "language_info": {
      "name": "python"
    }
  },
  "cells": [
    {
      "cell_type": "markdown",
      "metadata": {
        "id": "view-in-github",
        "colab_type": "text"
      },
      "source": [
        "<a href=\"https://colab.research.google.com/github/MarcelloSCavalcanti/prozExercicios/blob/main/Calculadora%20simples.ipynb\" target=\"_parent\"><img src=\"https://colab.research.google.com/assets/colab-badge.svg\" alt=\"Open In Colab\"/></a>"
      ]
    },
    {
      "cell_type": "code",
      "execution_count": 44,
      "metadata": {
        "colab": {
          "base_uri": "https://localhost:8080/"
        },
        "id": "0MBV3mIBkFNH",
        "outputId": "5e42a1da-458a-43fa-afa0-3710e5d74205"
      },
      "outputs": [
        {
          "output_type": "stream",
          "name": "stdout",
          "text": [
            "-75\n"
          ]
        }
      ],
      "source": [
        "numero1 = 15\n",
        "operador = \"*\"\n",
        "numero2 = -5\n",
        "\n",
        "def calculadora(numero1, operador, numero2):\n",
        "  x = str(numero1).lstrip('-').isnumeric()\n",
        "  y = str(numero2).lstrip('-').isnumeric()\n",
        "  if ((x == True) and (y == True)):\n",
        "    if(operador == \"+\"):\n",
        "      resposta = numero1 + numero2\n",
        "      return resposta\n",
        "    elif(operador == \"-\"):\n",
        "      resposta = numero1 - numero2\n",
        "      return resposta\n",
        "    elif(operador == \"*\"):\n",
        "      resposta = numero1 * numero2\n",
        "      return resposta\n",
        "    elif(operador == \"/\"):\n",
        "      resposta = numero1 / numero2\n",
        "    return resposta\n",
        "  else:\n",
        "    print(\"Erro! Caractere de numero1 ou numero2 não é/são numeros válidos!\")\n",
        "print(calculadora(numero1, operador, numero2))\n",
        "\n"
      ]
    },
    {
      "cell_type": "code",
      "source": [
        "numero1 = 15\n",
        "operador = \"*\"\n",
        "numero2 = \"t\"\n",
        "\n",
        "def calculadora(numero1, operador, numero2):\n",
        "  x = str(numero1).lstrip('-').isnumeric()\n",
        "  y = str(numero2).lstrip('-').isnumeric()\n",
        "  if ((x == True) and (y == True)):\n",
        "    if(operador == \"+\"):\n",
        "      resposta = numero1 + numero2\n",
        "      return resposta\n",
        "    elif(operador == \"-\"):\n",
        "      resposta = numero1 - numero2\n",
        "      return resposta\n",
        "    elif(operador == \"*\"):\n",
        "      resposta = numero1 * numero2\n",
        "      return resposta\n",
        "    elif(operador == \"/\"):\n",
        "      resposta = numero1 / numero2\n",
        "    return resposta\n",
        "  else:\n",
        "    print(\"Erro! Caractere de numero1 ou numero2 não é/são numeros válidos!\")\n",
        "print(calculadora(numero1, operador, numero2))"
      ],
      "metadata": {
        "id": "_-nvX8eGP_qa",
        "outputId": "0bbb6827-a7cd-4406-c81b-0f98afed5dae",
        "colab": {
          "base_uri": "https://localhost:8080/"
        }
      },
      "execution_count": 45,
      "outputs": [
        {
          "output_type": "stream",
          "name": "stdout",
          "text": [
            "Erro! Caractere de numero1 ou numero2 não é/são numeros válidos!\n",
            "None\n"
          ]
        }
      ]
    }
  ]
}