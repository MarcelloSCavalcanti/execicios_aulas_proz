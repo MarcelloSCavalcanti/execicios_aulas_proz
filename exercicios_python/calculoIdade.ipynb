{
  "nbformat": 4,
  "nbformat_minor": 0,
  "metadata": {
    "colab": {
      "provenance": [],
      "authorship_tag": "ABX9TyNIOQeMMu5XZIr+muFdp5J+",
      "include_colab_link": true
    },
    "kernelspec": {
      "name": "python3",
      "display_name": "Python 3"
    },
    "language_info": {
      "name": "python"
    }
  },
  "cells": [
    {
      "cell_type": "markdown",
      "metadata": {
        "id": "view-in-github",
        "colab_type": "text"
      },
      "source": [
        "<a href=\"https://colab.research.google.com/github/MarcelloSCavalcanti/prozExercicios/blob/main/calculoIdade.ipynb\" target=\"_parent\"><img src=\"https://colab.research.google.com/assets/colab-badge.svg\" alt=\"Open In Colab\"/></a>"
      ]
    },
    {
      "cell_type": "code",
      "execution_count": null,
      "metadata": {
        "colab": {
          "base_uri": "https://localhost:8080/"
        },
        "id": "0RZu-wLlJRNB",
        "outputId": "7898ce62-6eae-4a46-e2ab-5e9a623725df"
      },
      "outputs": [
        {
          "output_type": "stream",
          "name": "stdout",
          "text": [
            "Digite o nome: 1998\n",
            "Digite o ano de nascimento: dsfvs\n",
            "Caracteres digitados incorretamente\n",
            "Caracteres digitados incorretamente\n",
            "Caracteres digitados incorretamente\n",
            "Caracteres digitados incorretamente\n",
            "Caracteres digitados incorretamente\n"
          ]
        }
      ],
      "source": [
        "def contaIdade(anoAtual, anoNasc):\n",
        "  return anoAtual - anoNasc\n",
        "execucao = True\n",
        "while execucao == True:\n",
        "  try:\n",
        "    nome = input(\"Digite o nome: \")\n",
        "    anoAtual = 2022\n",
        "    anoNasc = int(input(\"Digite o ano de nascimento: \"))\n",
        "\n",
        "    if(anoNasc >= 1922) and (anoNasc <= 2022):\n",
        "      print(\"O/A\", nome, \"tem\", contaIdade(anoAtual, anoNasc),\"anos\")\n",
        "      execucao = False\n",
        "    else:\n",
        "      print(\"O ano deve ser maior que 1922 e menor que 2022\")\n",
        "  except:\n",
        "    print(\"Caracteres digitados incorretamente\")"
      ]
    }
  ]
}