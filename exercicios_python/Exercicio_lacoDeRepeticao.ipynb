{
  "nbformat": 4,
  "nbformat_minor": 0,
  "metadata": {
    "colab": {
      "provenance": [],
      "authorship_tag": "ABX9TyNv4BVmhYv53W0KLvd8osIH",
      "include_colab_link": true
    },
    "kernelspec": {
      "name": "python3",
      "display_name": "Python 3"
    },
    "language_info": {
      "name": "python"
    }
  },
  "cells": [
    {
      "cell_type": "markdown",
      "metadata": {
        "id": "view-in-github",
        "colab_type": "text"
      },
      "source": [
        "<a href=\"https://colab.research.google.com/github/MarcelloSCavalcanti/prozExercicios/blob/main/Exercicio_lacoDeRepeticao.ipynb\" target=\"_parent\"><img src=\"https://colab.research.google.com/assets/colab-badge.svg\" alt=\"Open In Colab\"/></a>"
      ]
    },
    {
      "cell_type": "code",
      "execution_count": 3,
      "metadata": {
        "colab": {
          "base_uri": "https://localhost:8080/"
        },
        "id": "pdJi4Ud0R1ac",
        "outputId": "a5bd5488-58eb-4b64-a783-438685c728fa"
      },
      "outputs": [
        {
          "output_type": "stream",
          "name": "stdout",
          "text": [
            "20\n",
            "19\n",
            "18\n",
            "17\n",
            "16\n",
            "15\n",
            "14\n",
            "12\n",
            "11\n",
            "10\n",
            "9\n",
            "8\n",
            "7\n",
            "6\n",
            "5\n",
            "4\n",
            "3\n",
            "2\n",
            "1\n"
          ]
        }
      ],
      "source": [
        "andar = 20\n",
        "for i in range(20):\n",
        "  if(andar != 13):\n",
        "    print(andar)\n",
        "    andar = andar -1\n",
        "    continue\n",
        "  else:\n",
        "    andar = andar -1\n",
        "    continue\n",
        "        #Nesse exemplo me mantive com o \\\"for\\\" e tendo duas regras aplicadas dentro do Laço de repetição sendo uma quando o andar for diferente de 13 e outro para igual a 13 (else)"
      ]
    },
    {
      "cell_type": "code",
      "source": [
        "andarAtual = 20\n",
        "while (andarAtual > 0):\n",
        "  print(andarAtual)\n",
        "  andarAtual = andarAtual - 1\n",
        "  if(andarAtual == 13):\n",
        "    andarAtual = andarAtual - 1\n",
        "    continue\n",
        "        #Nesse exemplo usei o while sendo somente uma regra de quando for igual a 13 ignorar a parte do print"
      ],
      "metadata": {
        "colab": {
          "base_uri": "https://localhost:8080/"
        },
        "id": "_Id-pHivScj9",
        "outputId": "5dda0564-16a4-41c2-9179-e946c4bc07da"
      },
      "execution_count": 4,
      "outputs": [
        {
          "output_type": "stream",
          "name": "stdout",
          "text": [
            "20\n",
            "19\n",
            "18\n",
            "17\n",
            "16\n",
            "15\n",
            "14\n",
            "12\n",
            "11\n",
            "10\n",
            "9\n",
            "8\n",
            "7\n",
            "6\n",
            "5\n",
            "4\n",
            "3\n",
            "2\n",
            "1\n"
          ]
        }
      ]
    },
    {
      "cell_type": "code",
      "source": [
        "for i in range(20, 0, -1):\n",
        "  mensagem = \"{}º andar\".format(i)\n",
        "  if(i != 13):\n",
        "    print(mensagem)\n",
        "        #Nesse último exemplo trabalhei o for com o index inicial, o index final e decremento já expecificado na função. Tendo somente a ordem de impressão para números diferentes de 13"
      ],
      "metadata": {
        "colab": {
          "base_uri": "https://localhost:8080/"
        },
        "id": "qNHYjEYUS3rj",
        "outputId": "ebc986d1-c342-482d-91f1-6211b67c6f95"
      },
      "execution_count": 6,
      "outputs": [
        {
          "output_type": "stream",
          "name": "stdout",
          "text": [
            "20º andar\n",
            "19º andar\n",
            "18º andar\n",
            "17º andar\n",
            "16º andar\n",
            "15º andar\n",
            "14º andar\n",
            "12º andar\n",
            "11º andar\n",
            "10º andar\n",
            "9º andar\n",
            "8º andar\n",
            "7º andar\n",
            "6º andar\n",
            "5º andar\n",
            "4º andar\n",
            "3º andar\n",
            "2º andar\n",
            "1º andar\n"
          ]
        }
      ]
    }
  ]
}