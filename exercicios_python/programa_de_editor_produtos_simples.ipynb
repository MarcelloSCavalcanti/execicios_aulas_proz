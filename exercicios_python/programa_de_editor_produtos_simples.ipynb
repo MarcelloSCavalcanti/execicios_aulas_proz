{
  "nbformat": 4,
  "nbformat_minor": 0,
  "metadata": {
    "colab": {
      "provenance": [],
      "authorship_tag": "ABX9TyN66/sB8aHEGY1xlpo1s/JI",
      "include_colab_link": true
    },
    "kernelspec": {
      "name": "python3",
      "display_name": "Python 3"
    },
    "language_info": {
      "name": "python"
    }
  },
  "cells": [
    {
      "cell_type": "markdown",
      "metadata": {
        "id": "view-in-github",
        "colab_type": "text"
      },
      "source": [
        "<a href=\"https://colab.research.google.com/github/MarcelloSCavalcanti/prozExercicios/blob/main/programa_de_editor_produtos_simples.ipynb\" target=\"_parent\"><img src=\"https://colab.research.google.com/assets/colab-badge.svg\" alt=\"Open In Colab\"/></a>"
      ]
    },
    {
      "cell_type": "markdown",
      "source": [
        "# Aluno: Marcello Cavalcanti"
      ],
      "metadata": {
        "id": "ooIkR32XezKu"
      }
    },
    {
      "cell_type": "markdown",
      "source": [
        "#Função que verifica se o array tem determinado elemento ou não.\n",
        "- len() Comprimento da lista\n",
        "- parênteses é opcional"
      ],
      "metadata": {
        "id": "iiOH9iajdLYT"
      }
    },
    {
      "cell_type": "code",
      "execution_count": 168,
      "metadata": {
        "colab": {
          "base_uri": "https://localhost:8080/"
        },
        "id": "OUy_W33MamMH",
        "outputId": "6fb54e88-e230-4a34-dccb-99d12ad71f78"
      },
      "outputs": [
        {
          "output_type": "stream",
          "name": "stdout",
          "text": [
            "Escreva o nome que deseja procurar Marcello\n",
            "A lista contém esse nome!\n"
          ]
        }
      ],
      "source": [
        "arr = [\"Marcello\", \"Luiza\", \"Valéria\", \"Luiz\"]\n",
        "def consultar_lista(elem, arr):\n",
        "  contem = False\n",
        "  for i in range(len(arr)):\n",
        "    if arr[i] == elem:\n",
        "      contem = True\n",
        "  if (contem == True):\n",
        "    print(\"A lista contém esse nome!\")\n",
        "  else:\n",
        "    print(\"Esse nome não existe na lista!\")\n",
        "procurar_nome = input(\"Escreva o nome que deseja procurar \")\n",
        "consultar_lista(procurar_nome, arr)"
      ]
    },
    {
      "cell_type": "markdown",
      "source": [
        "#O dono de uma loja entra em contato com você com a seguinte situação:\n",
        "\n",
        "“Boa tarde,\n",
        "\n",
        "Estamos modernizando nossa loja e precisamos de um **novo sistema de controle de estoque**. Geralmente anotamos todos os produtos que temos disponíveis, e quando um dos produtos acaba, substituímos ele por algum outro produto.\n",
        "\n",
        "Ouvi dizer que vocês podem fazer um sistema para a gente que **mostra a lista com todos nossos produtos**, e **nos deixa alterar um produto por outro**.\n",
        "\n",
        "Além disso, estamos pensando em ampliar nosso armazém, para ter mais espaço para mais produtos. Então, se puderem fazer com que o **sistema nos permita adicionar mais produtos à lista**, e qualquer outra coisa que acharem necessário, seria muito bom.\n",
        "\n",
        "\n",
        "\n",
        "Desde já agradeço!”"
      ],
      "metadata": {
        "id": "jw2h61PxdtTg"
      }
    },
    {
      "cell_type": "code",
      "source": [
        "produto = [\"Maça\", \"Pera\", \"Banana\"]\n",
        "quantidades = [1, 8, 2 ]\n",
        "\n",
        "def verLista():\n",
        "  print(\"\\nA lista de mercadorias é:\\n(Código do item - Nome do Produto / Quantidade de itens)\\n\")\n",
        "  for i in range(len(produto)):\n",
        "    print(\"código do item\", i, \" - \", produto[i], \" / \", quantidades[i], \"\\n\")\n",
        "\n",
        "def adicionarProdutoEQuantidades():\n",
        "  produto.append(input(\"Digite o produto que deseja adicionar: \"))\n",
        "  quantidades.append(input(\"\\nDigite a quantidade ou peso desse produto: \"))\n",
        "\n",
        "def excluirProduto():\n",
        "  codigo = int(input(\"Digite o código do item que deseja apagar (apagar um produto irá apagar também a sua quantidade)\"))\n",
        "  produto.pop(codigo)\n",
        "  quantidades.pop(codigo)\n",
        "\n",
        "def substituirAlterar():\n",
        "  codigo = -1\n",
        "  opcao = \"0\"\n",
        "  codigo = int(input(\"\\nDigite o código do item na qual deseja substituir ou alterar informações(Nome do produto ou quantidade);\\nNúmero do código: \"))\n",
        "  while ((codigo < 0) or (codigo > len(produto))):\n",
        "    codigo = int(input(\"\\nDigite o código de item válido! \"))\n",
        "  while ((opcao != \"1\") and (opcao != \"2\") and (opcao != \"3\")):\n",
        "    opcao = input(\"\\nDigite o número equivalente ao seu desejo:\\n1 - Alterar Nome do produto;\\n2 - Alterar quantidade de itens;\\n3 - Alterar Nome e quantidade;\\nNúmero da ação desejada: \")\n",
        "    if(opcao == \"1\"):\n",
        "      produto[codigo] = input(\"\\nDigite o novo nome do produto: \")\n",
        "    elif(opcao == \"2\"):\n",
        "      quantidades[codigo] = input(\"\\nDigite a nova quantidade de itens desse produto: \")\n",
        "    elif(opcao == \"3\"):\n",
        "      produto[codigo] = input(\"\\nDigite o novo nome do produto: \")\n",
        "      quantidades[codigo] = input(\"\\nDigite a nova quantidade de itens desse produto: \")\n",
        "    else:\n",
        "      print(\"\\nOpção inválida escolha um número equivalente a uma das opções!\")\n",
        "\n",
        "def inicio():\n",
        "  escolha = \"\"\n",
        "  while (escolha != \"5\"):\n",
        "    escolha = input(\"\\nDigite o número equivalente a sua escolha:\\n1 - Ver lista;\\n2 - Adicionar item e quantidade;\\n3 - Excluir item;\\n4 - Substituri ou alterar produto/quantidade;\\n5 - Sair;\\n\\nNúmero escolhido: \")\n",
        "    if(escolha == \"1\"):\n",
        "      verLista()\n",
        "    elif(escolha == \"2\"):\n",
        "      verLista()\n",
        "      adicionarProdutoEQuantidades()\n",
        "      verLista()\n",
        "    elif(escolha == \"3\"):\n",
        "      verLista()\n",
        "      excluirProduto()\n",
        "      verLista()\n",
        "    elif(escolha == \"4\"):\n",
        "      verLista()\n",
        "      substituirAlterar()\n",
        "      verLista()\n",
        "    else:\n",
        "      print(\"\\nA opção foi inválida. Tente novamente!\")\n",
        "\n",
        "\n",
        "inicio()\n",
        "print(\"Obrigado por usar o nosso programa!\")"
      ],
      "metadata": {
        "colab": {
          "base_uri": "https://localhost:8080/"
        },
        "id": "1l5MjdOYfy0u",
        "outputId": "efb33470-138b-4937-df71-7fa1f1b13f83"
      },
      "execution_count": 169,
      "outputs": [
        {
          "output_type": "stream",
          "name": "stdout",
          "text": [
            "\n",
            "Digite o número equivalente a sua escolha:\n",
            "1 - Ver lista;\n",
            "2 - Adicionar item e quantidade;\n",
            "3 - Excluir item;\n",
            "4 - Substituri ou alterar produto/quantidade;\n",
            "5 - Sair;\n",
            "\n",
            "Número escolhido: 6\n",
            "\n",
            "A opção foi inválida. Tente novamente!\n",
            "\n",
            "Digite o número equivalente a sua escolha:\n",
            "1 - Ver lista;\n",
            "2 - Adicionar item e quantidade;\n",
            "3 - Excluir item;\n",
            "4 - Substituri ou alterar produto/quantidade;\n",
            "5 - Sair;\n",
            "\n",
            "Número escolhido: 5\n",
            "\n",
            "A opção foi inválida. Tente novamente!\n",
            "Obrigado por usar o nosso programa!\n"
          ]
        }
      ]
    }
  ]
}