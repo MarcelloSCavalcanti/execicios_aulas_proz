{
  "nbformat": 4,
  "nbformat_minor": 0,
  "metadata": {
    "colab": {
      "provenance": [],
      "authorship_tag": "ABX9TyP7squdKjsiTvrsuSZfZcx6"
    },
    "kernelspec": {
      "name": "python3",
      "display_name": "Python 3"
    },
    "language_info": {
      "name": "python"
    }
  },
  "cells": [
    {
      "cell_type": "code",
      "execution_count": null,
      "metadata": {
        "id": "a44VX_aEi7z3"
      },
      "outputs": [],
      "source": [
        "andar = 20\n",
        "for i in range(20):\n",
        "  if(andar != 13):\n",
        "    print(andar)\n",
        "    andar = andar -1\n",
        "    continue\n",
        "  else:\n",
        "    andar = andar -1\n",
        "    continue\n",
        "#Nesse exemplo me mantive com o \"for\" e tendo duas regras aplicadas dentro do Laço de repetição sendo uma quando o andar for diferente de 13 e outro para igual a 13 (else)"
      ]
    },
    {
      "cell_type": "code",
      "source": [
        "andarAtual = 20\n",
        "while (andarAtual > 0):\n",
        "  print(andarAtual)\n",
        "  andarAtual = andarAtual - 1\n",
        "  if(andarAtual == 13):\n",
        "    andarAtual = andarAtual - 1\n",
        "    continue\n",
        "#Nesse exemplo usei o while sendo somente uma regra de quando for igual a 13 ignorar a parte do print"
      ],
      "metadata": {
        "id": "cWpnODonny3-"
      },
      "execution_count": null,
      "outputs": []
    },
    {
      "cell_type": "code",
      "source": [
        "for i in range(20, 0, -1):\n",
        "    mensagem = \"{}º andar\".format(i)\n",
        "    if(i != 13):\n",
        "      print(mensagem)\n",
        "#Nesse último exemplo trabalhei o for com o index inicial, o index final e decremento já expecificado na função. Tendo somente a ordem de impressão para números diferentes de 13"
      ],
      "metadata": {
        "id": "kgkkTSD_sCX2"
      },
      "execution_count": null,
      "outputs": []
    }
  ]
}
